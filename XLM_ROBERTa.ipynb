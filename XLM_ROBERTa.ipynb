{
  "nbformat": 4,
  "nbformat_minor": 0,
  "metadata": {
    "colab": {
      "provenance": [],
      "gpuType": "V100"
    },
    "kernelspec": {
      "name": "python3",
      "display_name": "Python 3"
    },
    "language_info": {
      "name": "python"
    },
    "accelerator": "GPU",
    "widgets": {
      "application/vnd.jupyter.widget-state+json": {
        "48c4adbe0e604c58ad946350b3b0367c": {
          "model_module": "@jupyter-widgets/controls",
          "model_name": "VBoxModel",
          "model_module_version": "1.5.0",
          "state": {
            "_dom_classes": [],
            "_model_module": "@jupyter-widgets/controls",
            "_model_module_version": "1.5.0",
            "_model_name": "VBoxModel",
            "_view_count": null,
            "_view_module": "@jupyter-widgets/controls",
            "_view_module_version": "1.5.0",
            "_view_name": "VBoxView",
            "box_style": "",
            "children": [
              "IPY_MODEL_e4c9105b4e24441ba13d62c1701c8379",
              "IPY_MODEL_7baa2e454cb643e58837d1793b025cd0"
            ],
            "layout": "IPY_MODEL_f2dbfdf3284040a2936fa0f192cccc17"
          }
        },
        "e4c9105b4e24441ba13d62c1701c8379": {
          "model_module": "@jupyter-widgets/controls",
          "model_name": "LabelModel",
          "model_module_version": "1.5.0",
          "state": {
            "_dom_classes": [],
            "_model_module": "@jupyter-widgets/controls",
            "_model_module_version": "1.5.0",
            "_model_name": "LabelModel",
            "_view_count": null,
            "_view_module": "@jupyter-widgets/controls",
            "_view_module_version": "1.5.0",
            "_view_name": "LabelView",
            "description": "",
            "description_tooltip": null,
            "layout": "IPY_MODEL_6697f2f82e9a4c3fad2bfc25fa322c2f",
            "placeholder": "​",
            "style": "IPY_MODEL_688ff1f193234c45bab39bfcd07a7004",
            "value": "0.012 MB of 0.012 MB uploaded\r"
          }
        },
        "7baa2e454cb643e58837d1793b025cd0": {
          "model_module": "@jupyter-widgets/controls",
          "model_name": "FloatProgressModel",
          "model_module_version": "1.5.0",
          "state": {
            "_dom_classes": [],
            "_model_module": "@jupyter-widgets/controls",
            "_model_module_version": "1.5.0",
            "_model_name": "FloatProgressModel",
            "_view_count": null,
            "_view_module": "@jupyter-widgets/controls",
            "_view_module_version": "1.5.0",
            "_view_name": "ProgressView",
            "bar_style": "",
            "description": "",
            "description_tooltip": null,
            "layout": "IPY_MODEL_8a5e39b56cd747fc9c10a6c13680de22",
            "max": 1,
            "min": 0,
            "orientation": "horizontal",
            "style": "IPY_MODEL_f2ce671208594d7e83a2312609d18607",
            "value": 1
          }
        },
        "f2dbfdf3284040a2936fa0f192cccc17": {
          "model_module": "@jupyter-widgets/base",
          "model_name": "LayoutModel",
          "model_module_version": "1.2.0",
          "state": {
            "_model_module": "@jupyter-widgets/base",
            "_model_module_version": "1.2.0",
            "_model_name": "LayoutModel",
            "_view_count": null,
            "_view_module": "@jupyter-widgets/base",
            "_view_module_version": "1.2.0",
            "_view_name": "LayoutView",
            "align_content": null,
            "align_items": null,
            "align_self": null,
            "border": null,
            "bottom": null,
            "display": null,
            "flex": null,
            "flex_flow": null,
            "grid_area": null,
            "grid_auto_columns": null,
            "grid_auto_flow": null,
            "grid_auto_rows": null,
            "grid_column": null,
            "grid_gap": null,
            "grid_row": null,
            "grid_template_areas": null,
            "grid_template_columns": null,
            "grid_template_rows": null,
            "height": null,
            "justify_content": null,
            "justify_items": null,
            "left": null,
            "margin": null,
            "max_height": null,
            "max_width": null,
            "min_height": null,
            "min_width": null,
            "object_fit": null,
            "object_position": null,
            "order": null,
            "overflow": null,
            "overflow_x": null,
            "overflow_y": null,
            "padding": null,
            "right": null,
            "top": null,
            "visibility": null,
            "width": null
          }
        },
        "6697f2f82e9a4c3fad2bfc25fa322c2f": {
          "model_module": "@jupyter-widgets/base",
          "model_name": "LayoutModel",
          "model_module_version": "1.2.0",
          "state": {
            "_model_module": "@jupyter-widgets/base",
            "_model_module_version": "1.2.0",
            "_model_name": "LayoutModel",
            "_view_count": null,
            "_view_module": "@jupyter-widgets/base",
            "_view_module_version": "1.2.0",
            "_view_name": "LayoutView",
            "align_content": null,
            "align_items": null,
            "align_self": null,
            "border": null,
            "bottom": null,
            "display": null,
            "flex": null,
            "flex_flow": null,
            "grid_area": null,
            "grid_auto_columns": null,
            "grid_auto_flow": null,
            "grid_auto_rows": null,
            "grid_column": null,
            "grid_gap": null,
            "grid_row": null,
            "grid_template_areas": null,
            "grid_template_columns": null,
            "grid_template_rows": null,
            "height": null,
            "justify_content": null,
            "justify_items": null,
            "left": null,
            "margin": null,
            "max_height": null,
            "max_width": null,
            "min_height": null,
            "min_width": null,
            "object_fit": null,
            "object_position": null,
            "order": null,
            "overflow": null,
            "overflow_x": null,
            "overflow_y": null,
            "padding": null,
            "right": null,
            "top": null,
            "visibility": null,
            "width": null
          }
        },
        "688ff1f193234c45bab39bfcd07a7004": {
          "model_module": "@jupyter-widgets/controls",
          "model_name": "DescriptionStyleModel",
          "model_module_version": "1.5.0",
          "state": {
            "_model_module": "@jupyter-widgets/controls",
            "_model_module_version": "1.5.0",
            "_model_name": "DescriptionStyleModel",
            "_view_count": null,
            "_view_module": "@jupyter-widgets/base",
            "_view_module_version": "1.2.0",
            "_view_name": "StyleView",
            "description_width": ""
          }
        },
        "8a5e39b56cd747fc9c10a6c13680de22": {
          "model_module": "@jupyter-widgets/base",
          "model_name": "LayoutModel",
          "model_module_version": "1.2.0",
          "state": {
            "_model_module": "@jupyter-widgets/base",
            "_model_module_version": "1.2.0",
            "_model_name": "LayoutModel",
            "_view_count": null,
            "_view_module": "@jupyter-widgets/base",
            "_view_module_version": "1.2.0",
            "_view_name": "LayoutView",
            "align_content": null,
            "align_items": null,
            "align_self": null,
            "border": null,
            "bottom": null,
            "display": null,
            "flex": null,
            "flex_flow": null,
            "grid_area": null,
            "grid_auto_columns": null,
            "grid_auto_flow": null,
            "grid_auto_rows": null,
            "grid_column": null,
            "grid_gap": null,
            "grid_row": null,
            "grid_template_areas": null,
            "grid_template_columns": null,
            "grid_template_rows": null,
            "height": null,
            "justify_content": null,
            "justify_items": null,
            "left": null,
            "margin": null,
            "max_height": null,
            "max_width": null,
            "min_height": null,
            "min_width": null,
            "object_fit": null,
            "object_position": null,
            "order": null,
            "overflow": null,
            "overflow_x": null,
            "overflow_y": null,
            "padding": null,
            "right": null,
            "top": null,
            "visibility": null,
            "width": null
          }
        },
        "f2ce671208594d7e83a2312609d18607": {
          "model_module": "@jupyter-widgets/controls",
          "model_name": "ProgressStyleModel",
          "model_module_version": "1.5.0",
          "state": {
            "_model_module": "@jupyter-widgets/controls",
            "_model_module_version": "1.5.0",
            "_model_name": "ProgressStyleModel",
            "_view_count": null,
            "_view_module": "@jupyter-widgets/base",
            "_view_module_version": "1.2.0",
            "_view_name": "StyleView",
            "bar_color": null,
            "description_width": ""
          }
        }
      }
    }
  },
  "cells": [
    {
      "cell_type": "markdown",
      "source": [
        "# **Computational Linguistics 23/24 Final Project** <br>\n",
        "Name: Ho-Hsuan Wang <br>\n",
        "Student Number: 7038925 <br>\n",
        "Date: 22nd March <br>"
      ],
      "metadata": {
        "id": "SMl5PR34Qveh"
      }
    },
    {
      "cell_type": "markdown",
      "source": [
        "## 1. Download and Inspect Datasets"
      ],
      "metadata": {
        "id": "6KikrD098-Ky"
      }
    },
    {
      "cell_type": "code",
      "execution_count": null,
      "metadata": {
        "colab": {
          "base_uri": "https://localhost:8080/"
        },
        "id": "Ljsl3PzrUPM_",
        "outputId": "c63f27d7-1130-4a0c-d764-8bc7ed0994d5"
      },
      "outputs": [
        {
          "output_type": "stream",
          "name": "stdout",
          "text": [
            "Requirement already satisfied: requests in /usr/local/lib/python3.10/dist-packages (2.31.0)\n",
            "Requirement already satisfied: conllu in /usr/local/lib/python3.10/dist-packages (4.5.3)\n",
            "Requirement already satisfied: charset-normalizer<4,>=2 in /usr/local/lib/python3.10/dist-packages (from requests) (3.3.2)\n",
            "Requirement already satisfied: idna<4,>=2.5 in /usr/local/lib/python3.10/dist-packages (from requests) (3.6)\n",
            "Requirement already satisfied: urllib3<3,>=1.21.1 in /usr/local/lib/python3.10/dist-packages (from requests) (2.0.7)\n",
            "Requirement already satisfied: certifi>=2017.4.17 in /usr/local/lib/python3.10/dist-packages (from requests) (2024.2.2)\n"
          ]
        }
      ],
      "source": [
        "pip install requests conllu\n"
      ]
    },
    {
      "cell_type": "code",
      "source": [
        "import requests\n",
        "from conllu import parse\n",
        "from io import StringIO"
      ],
      "metadata": {
        "id": "uDjB0zfOKbCi"
      },
      "execution_count": null,
      "outputs": []
    },
    {
      "cell_type": "markdown",
      "source": [
        "Link to UD_Chinese-GSD repository: https://github.com/UniversalDependencies/UD_Chinese-GSD\n",
        "\n",
        "Description: UD_Chinese-GSD is a traditional Chinese Universal Dependencies Treebank annotated and converted by Google."
      ],
      "metadata": {
        "id": "QpMCMsBvMkJm"
      }
    },
    {
      "cell_type": "code",
      "source": [
        "\n",
        "links_to_datasets = {\n",
        "    \"train\": \"https://raw.githubusercontent.com/UniversalDependencies/UD_Chinese-GSD/master/zh_gsd-ud-train.conllu\",\n",
        "    \"test\": \"https://raw.githubusercontent.com/UniversalDependencies/UD_Chinese-GSD/master/zh_gsd-ud-test.conllu\",\n",
        "}\n",
        "\n",
        "def download_and_parse(url):\n",
        "    response = requests.get(url)\n",
        "    response.raise_for_status()\n",
        "    file_content = response.text\n",
        "    parsed_data = parse(file_content)\n",
        "    return parsed_data\n",
        "\n",
        "# Column headers and descriptions\n",
        "columns_info = {\n",
        "    \"ID\": \"Token ID, integer or decimal for multiword tokens\",\n",
        "    \"FORM\": \"Form or spelling of the word\",\n",
        "    \"LEMMA\": \"Lemma or base form of the word\",\n",
        "    \"UPOS\": \"Universal Part-of-Speech tag\",\n",
        "    \"XPOS\": \"Language-specific part-of-speech tag\",\n",
        "    \"FEATS\": \"Morphological features\",\n",
        "    \"HEAD\": \"Head of the current token in a dependency parse\",\n",
        "    \"DEPREL\": \"Dependency relation to the HEAD\",\n",
        "    \"DEPS\": \"Enhanced dependency graph\",\n",
        "    \"MISC\": \"Any other annotation\"\n",
        "}\n",
        "\n",
        "datasets = {name: download_and_parse(url) for name, url in links_to_datasets.items()}\n",
        "\n",
        "# Print column information\n",
        "print(\"CoNLL-U Format Columns:\")\n",
        "for column, description in columns_info.items():\n",
        "    print(f\"{column}: {description}\")\n",
        "print(\"\\n---\\n\")\n",
        "\n",
        "# Print dataset information\n",
        "for name, data in datasets.items():\n",
        "    print(f\"Dataset: {name}, Sentences: {len(data)}\")\n",
        "    if data:\n",
        "        first_sentence = data[0]\n",
        "        print(f\"# sent_id = {first_sentence.metadata['sent_id']}\")\n",
        "        print(f\"# text = {first_sentence.metadata['text']}\")\n",
        "        if 'translit' in first_sentence.metadata:\n",
        "            print(f\"# translit = {first_sentence.metadata['translit']}\")\n",
        "        for token in first_sentence:\n",
        "            print(f\"{token['id']}\\t{token['form']}\\t{token['lemma']}\\t{token['upos']}\\t{token['xpos']}\\t{'_'}\\t{token.get('head', '_')}\\t{token['deprel']}\\t{'_'}\\t{'|'.join([f'{k}={v}' for k, v in token['misc'].items()]) if token['misc'] else '_'}\")\n",
        "    print(\"\\n---\\n\")\n"
      ],
      "metadata": {
        "colab": {
          "base_uri": "https://localhost:8080/"
        },
        "id": "A7Qnvk5AKlLc",
        "outputId": "003b77a2-bb9a-465e-80d5-543fcf72db8a"
      },
      "execution_count": null,
      "outputs": [
        {
          "output_type": "stream",
          "name": "stdout",
          "text": [
            "CoNLL-U Format Columns:\n",
            "ID: Token ID, integer or decimal for multiword tokens\n",
            "FORM: Form or spelling of the word\n",
            "LEMMA: Lemma or base form of the word\n",
            "UPOS: Universal Part-of-Speech tag\n",
            "XPOS: Language-specific part-of-speech tag\n",
            "FEATS: Morphological features\n",
            "HEAD: Head of the current token in a dependency parse\n",
            "DEPREL: Dependency relation to the HEAD\n",
            "DEPS: Enhanced dependency graph\n",
            "MISC: Any other annotation\n",
            "\n",
            "---\n",
            "\n",
            "Dataset: train, Sentences: 3997\n",
            "# sent_id = train-s1\n",
            "# text = 看似簡單，只是二選一做決擇，但其實他們代表的是你周遭的親朋好友，試著給你不同的意見，但追根究底，最後決定的還是自己。\n",
            "# translit = kànshìjiǎndān,zhǐshì'èrxuǎnyīzuòjuézé,dànqíshítāmendàibiǎodeshìnǐzhōuzāodeqīnpénghǎoyou,shìzhegěinǐbùtóngdeyìjiàn,dànzhuīgēnjiūdǐ,zuìhòujuédìngdeháishìzìjǐ.\n",
            "1\t看似\t看似\tVERB\tVV\t_\t5\tadvcl\t_\tSpaceAfter=No|Translit=kànshì|LTranslit=kànshì\n",
            "2\t簡單\t簡單\tADJ\tJJ\t_\t1\txcomp\t_\tSpaceAfter=No|Translit=jiǎndān|LTranslit=jiǎndān\n",
            "3\t，\t，\tPUNCT\t,\t_\t1\tpunct\t_\tSpaceAfter=No|Translit=,|LTranslit=,\n",
            "4\t只\t只\tADV\tRB\t_\t5\tadvmod\t_\tSpaceAfter=No|Translit=zhǐ|LTranslit=zhǐ\n",
            "5\t是\t是\tVERB\tVC\t_\t0\troot\t_\tSpaceAfter=No|Translit=shì|LTranslit=shì\n",
            "6\t二\t二\tNUM\tCD\t_\t7\tobl\t_\tSpaceAfter=No|Translit='èr|LTranslit='èr\n",
            "7\t選\t選\tVERB\tVV\t_\t9\tadvcl\t_\tSpaceAfter=No|Translit=xuǎn|LTranslit=xuǎn\n",
            "8\t一\t一\tNUM\tCD\t_\t7\tobj\t_\tSpaceAfter=No|Translit=yī|LTranslit=yī\n",
            "9\t做\t做\tVERB\tVV\t_\t5\txcomp\t_\tSpaceAfter=No|Translit=zuò|LTranslit=zuò\n",
            "10\t決擇\t決擇\tNOUN\tNN\t_\t9\tobj\t_\tSpaceAfter=No|Translit=juézé|LTranslit=juézé\n",
            "11\t，\t，\tPUNCT\t,\t_\t22\tpunct\t_\tSpaceAfter=No|Translit=,|LTranslit=,\n",
            "12\t但\t但\tSCONJ\tRB\t_\t22\tmark\t_\tSpaceAfter=No|Translit=dàn|LTranslit=dàn\n",
            "13\t其實\t其實\tADV\tRB\t_\t22\tadvmod\t_\tSpaceAfter=No|Translit=qíshí|LTranslit=qíshí\n",
            "14\t他們\t他\tPRON\tPRP\t_\t15\tnsubj\t_\tSpaceAfter=No|Translit=tāmen|LTranslit=tā\n",
            "15\t代表\t代表\tVERB\tVV\t_\t22\tcsubj\t_\tSpaceAfter=No|Translit=dàibiǎo|LTranslit=dàibiǎo\n",
            "16\t的\t的\tSCONJ\tDEC\t_\t15\tmark:rel\t_\tSpaceAfter=No|Translit=de|LTranslit=de\n",
            "17\t是\t是\tAUX\tVC\t_\t22\tcop\t_\tSpaceAfter=No|Translit=shì|LTranslit=shì\n",
            "18\t你\t你\tPRON\tPRP\t_\t19\tnsubj\t_\tSpaceAfter=No|Translit=nǐ|LTranslit=nǐ\n",
            "19\t周遭\t周遭\tNOUN\tNN\t_\t22\tnmod\t_\tSpaceAfter=No|Translit=zhōuzāo|LTranslit=zhōuzāo\n",
            "20\t的\t的\tPART\tDEC\t_\t19\tcase\t_\tSpaceAfter=No|Translit=de|LTranslit=de\n",
            "21\t親朋\t親朋\tNOUN\tNN\t_\t22\tnmod\t_\tSpaceAfter=No|Translit=qīnpéng|LTranslit=qīnpéng\n",
            "22\t好友\t好友\tNOUN\tNN\t_\t5\tparataxis\t_\tSpaceAfter=No|Translit=hǎoyou|LTranslit=hǎoyou\n",
            "23\t，\t，\tPUNCT\t,\t_\t24\tpunct\t_\tSpaceAfter=No|Translit=,|LTranslit=,\n",
            "24\t試\t試\tVERB\tVV\t_\t5\tparataxis\t_\tSpaceAfter=No|Translit=shì|LTranslit=shì\n",
            "25\t著\t著\tAUX\tAS\t_\t24\taux\t_\tSpaceAfter=No|Translit=zhe|LTranslit=zhe\n",
            "26\t給\t給\tVERB\tVV\t_\t24\txcomp\t_\tSpaceAfter=No|Translit=gěi|LTranslit=gěi\n",
            "27\t你\t你\tPRON\tPRP\t_\t26\tiobj\t_\tSpaceAfter=No|Translit=nǐ|LTranslit=nǐ\n",
            "28\t不同\t不同\tADJ\tJJ\t_\t30\tamod\t_\tSpaceAfter=No|Translit=bùtóng|LTranslit=bùtóng\n",
            "29\t的\t的\tSCONJ\tDEC\t_\t28\tmark:rel\t_\tSpaceAfter=No|Translit=de|LTranslit=de\n",
            "30\t意見\t意見\tNOUN\tNN\t_\t26\tobj\t_\tSpaceAfter=No|Translit=yìjiàn|LTranslit=yìjiàn\n",
            "31\t，\t，\tPUNCT\t,\t_\t39\tpunct\t_\tSpaceAfter=No|Translit=,|LTranslit=,\n",
            "32\t但\t但\tSCONJ\tRB\t_\t39\tmark\t_\tSpaceAfter=No|Translit=dàn|LTranslit=dàn\n",
            "33\t追根究底\t追根究底\tVERB\tVV\t_\t39\tacl\t_\tSpaceAfter=No|Translit=zhuīgēnjiūdǐ|LTranslit=zhuīgēnjiūdǐ\n",
            "34\t，\t，\tPUNCT\t,\t_\t33\tpunct\t_\tSpaceAfter=No|Translit=,|LTranslit=,\n",
            "35\t最後\t最後\tNOUN\tNN\t_\t36\tnmod:tmod\t_\tSpaceAfter=No|Translit=zuìhòu|LTranslit=zuìhòu\n",
            "36\t決定\t決定\tVERB\tVV\t_\t39\tcsubj\t_\tSpaceAfter=No|Translit=juédìng|LTranslit=juédìng\n",
            "37\t的\t的\tSCONJ\tDEC\t_\t36\tmark:rel\t_\tSpaceAfter=No|Translit=de|LTranslit=de\n",
            "38\t還是\t是\tAUX\tVC\t_\t39\tcop\t_\tSpaceAfter=No|Translit=háishì|LTranslit=shì\n",
            "39\t自己\t自己\tPRON\tPRD\t_\t5\tparataxis\t_\tSpaceAfter=No|Translit=zìjǐ|LTranslit=zìjǐ\n",
            "40\t。\t。\tPUNCT\t.\t_\t5\tpunct\t_\tSpaceAfter=No|Translit=.|LTranslit=.\n",
            "\n",
            "---\n",
            "\n",
            "Dataset: test, Sentences: 500\n",
            "# sent_id = test-s1\n",
            "# text = 然而，這樣的處理也衍生了一些問題。\n",
            "# translit = rán'ér,zhèyàngdechùlǐyěyǎnshēngleyīxiēwèntí.\n",
            "1\t然而\t然而\tSCONJ\tRB\t_\t7\tmark\t_\tSpaceAfter=No|Translit=rán'ér|LTranslit=rán'ér\n",
            "2\t，\t，\tPUNCT\t,\t_\t1\tpunct\t_\tSpaceAfter=No|Translit=,|LTranslit=,\n",
            "3\t這樣\t這樣\tPRON\tPRD\t_\t5\tdet\t_\tSpaceAfter=No|Translit=zhèyàng|LTranslit=zhèyàng\n",
            "4\t的\t的\tPART\tDEC\t_\t3\tcase\t_\tSpaceAfter=No|Translit=de|LTranslit=de\n",
            "5\t處理\t處理\tNOUN\tNN\t_\t7\tnsubj\t_\tSpaceAfter=No|Translit=chùlǐ|LTranslit=chùlǐ\n",
            "6\t也\t也\tSCONJ\tRB\t_\t7\tmark\t_\tSpaceAfter=No|Translit=yě|LTranslit=yě\n",
            "7\t衍生\t衍生\tVERB\tVV\t_\t0\troot\t_\tSpaceAfter=No|Translit=yǎnshēng|LTranslit=yǎnshēng\n",
            "8\t了\t了\tAUX\tAS\t_\t7\taux\t_\tSpaceAfter=No|Translit=le|LTranslit=le\n",
            "9\t一些\t一些\tADJ\tJJ\t_\t10\tamod\t_\tSpaceAfter=No|Translit=yīxiē|LTranslit=yīxiē\n",
            "10\t問題\t問題\tNOUN\tNN\t_\t7\tobj\t_\tSpaceAfter=No|Translit=wèntí|LTranslit=wèntí\n",
            "11\t。\t。\tPUNCT\t.\t_\t7\tpunct\t_\tSpaceAfter=No|Translit=.|LTranslit=.\n",
            "\n",
            "---\n",
            "\n"
          ]
        }
      ]
    },
    {
      "cell_type": "markdown",
      "source": [
        "## 2. Data Preprocessing\n",
        "\n",
        "Preprocess the data from the CoNLL-U files and prepares it for training the XLM-RoBERTa model. <br>\n",
        "\n",
        "- Tokenize and align the data (align the POS tags with the subword tokens) using the XLMRobertaTokenizerFast since XLM-RoBERTa uses subword tokenization."
      ],
      "metadata": {
        "id": "4c1NFE-ak_F8"
      }
    },
    {
      "cell_type": "code",
      "source": [
        "pip install transformers datasets torch"
      ],
      "metadata": {
        "colab": {
          "base_uri": "https://localhost:8080/"
        },
        "id": "RMrTTIUqk-EP",
        "outputId": "38be9139-e434-4d1f-e1be-4cf15c7210ed"
      },
      "execution_count": null,
      "outputs": [
        {
          "output_type": "stream",
          "name": "stdout",
          "text": [
            "Requirement already satisfied: transformers in /usr/local/lib/python3.10/dist-packages (4.38.2)\n",
            "Requirement already satisfied: datasets in /usr/local/lib/python3.10/dist-packages (2.18.0)\n",
            "Requirement already satisfied: torch in /usr/local/lib/python3.10/dist-packages (2.1.0+cu121)\n",
            "Requirement already satisfied: filelock in /usr/local/lib/python3.10/dist-packages (from transformers) (3.13.1)\n",
            "Requirement already satisfied: huggingface-hub<1.0,>=0.19.3 in /usr/local/lib/python3.10/dist-packages (from transformers) (0.20.3)\n",
            "Requirement already satisfied: numpy>=1.17 in /usr/local/lib/python3.10/dist-packages (from transformers) (1.25.2)\n",
            "Requirement already satisfied: packaging>=20.0 in /usr/local/lib/python3.10/dist-packages (from transformers) (23.2)\n",
            "Requirement already satisfied: pyyaml>=5.1 in /usr/local/lib/python3.10/dist-packages (from transformers) (6.0.1)\n",
            "Requirement already satisfied: regex!=2019.12.17 in /usr/local/lib/python3.10/dist-packages (from transformers) (2023.12.25)\n",
            "Requirement already satisfied: requests in /usr/local/lib/python3.10/dist-packages (from transformers) (2.31.0)\n",
            "Requirement already satisfied: tokenizers<0.19,>=0.14 in /usr/local/lib/python3.10/dist-packages (from transformers) (0.15.2)\n",
            "Requirement already satisfied: safetensors>=0.4.1 in /usr/local/lib/python3.10/dist-packages (from transformers) (0.4.2)\n",
            "Requirement already satisfied: tqdm>=4.27 in /usr/local/lib/python3.10/dist-packages (from transformers) (4.66.2)\n",
            "Requirement already satisfied: pyarrow>=12.0.0 in /usr/local/lib/python3.10/dist-packages (from datasets) (14.0.2)\n",
            "Requirement already satisfied: pyarrow-hotfix in /usr/local/lib/python3.10/dist-packages (from datasets) (0.6)\n",
            "Requirement already satisfied: dill<0.3.9,>=0.3.0 in /usr/local/lib/python3.10/dist-packages (from datasets) (0.3.8)\n",
            "Requirement already satisfied: pandas in /usr/local/lib/python3.10/dist-packages (from datasets) (1.5.3)\n",
            "Requirement already satisfied: xxhash in /usr/local/lib/python3.10/dist-packages (from datasets) (3.4.1)\n",
            "Requirement already satisfied: multiprocess in /usr/local/lib/python3.10/dist-packages (from datasets) (0.70.16)\n",
            "Requirement already satisfied: fsspec[http]<=2024.2.0,>=2023.1.0 in /usr/local/lib/python3.10/dist-packages (from datasets) (2023.6.0)\n",
            "Requirement already satisfied: aiohttp in /usr/local/lib/python3.10/dist-packages (from datasets) (3.9.3)\n",
            "Requirement already satisfied: typing-extensions in /usr/local/lib/python3.10/dist-packages (from torch) (4.10.0)\n",
            "Requirement already satisfied: sympy in /usr/local/lib/python3.10/dist-packages (from torch) (1.12)\n",
            "Requirement already satisfied: networkx in /usr/local/lib/python3.10/dist-packages (from torch) (3.2.1)\n",
            "Requirement already satisfied: jinja2 in /usr/local/lib/python3.10/dist-packages (from torch) (3.1.3)\n",
            "Requirement already satisfied: triton==2.1.0 in /usr/local/lib/python3.10/dist-packages (from torch) (2.1.0)\n",
            "Requirement already satisfied: aiosignal>=1.1.2 in /usr/local/lib/python3.10/dist-packages (from aiohttp->datasets) (1.3.1)\n",
            "Requirement already satisfied: attrs>=17.3.0 in /usr/local/lib/python3.10/dist-packages (from aiohttp->datasets) (23.2.0)\n",
            "Requirement already satisfied: frozenlist>=1.1.1 in /usr/local/lib/python3.10/dist-packages (from aiohttp->datasets) (1.4.1)\n",
            "Requirement already satisfied: multidict<7.0,>=4.5 in /usr/local/lib/python3.10/dist-packages (from aiohttp->datasets) (6.0.5)\n",
            "Requirement already satisfied: yarl<2.0,>=1.0 in /usr/local/lib/python3.10/dist-packages (from aiohttp->datasets) (1.9.4)\n",
            "Requirement already satisfied: async-timeout<5.0,>=4.0 in /usr/local/lib/python3.10/dist-packages (from aiohttp->datasets) (4.0.3)\n",
            "Requirement already satisfied: charset-normalizer<4,>=2 in /usr/local/lib/python3.10/dist-packages (from requests->transformers) (3.3.2)\n",
            "Requirement already satisfied: idna<4,>=2.5 in /usr/local/lib/python3.10/dist-packages (from requests->transformers) (3.6)\n",
            "Requirement already satisfied: urllib3<3,>=1.21.1 in /usr/local/lib/python3.10/dist-packages (from requests->transformers) (2.0.7)\n",
            "Requirement already satisfied: certifi>=2017.4.17 in /usr/local/lib/python3.10/dist-packages (from requests->transformers) (2024.2.2)\n",
            "Requirement already satisfied: MarkupSafe>=2.0 in /usr/local/lib/python3.10/dist-packages (from jinja2->torch) (2.1.5)\n",
            "Requirement already satisfied: python-dateutil>=2.8.1 in /usr/local/lib/python3.10/dist-packages (from pandas->datasets) (2.8.2)\n",
            "Requirement already satisfied: pytz>=2020.1 in /usr/local/lib/python3.10/dist-packages (from pandas->datasets) (2023.4)\n",
            "Requirement already satisfied: mpmath>=0.19 in /usr/local/lib/python3.10/dist-packages (from sympy->torch) (1.3.0)\n",
            "Requirement already satisfied: six>=1.5 in /usr/local/lib/python3.10/dist-packages (from python-dateutil>=2.8.1->pandas->datasets) (1.16.0)\n"
          ]
        }
      ]
    },
    {
      "cell_type": "code",
      "source": [
        "from transformers import XLMRobertaForTokenClassification, XLMRobertaTokenizerFast\n",
        "from transformers import Trainer, TrainingArguments\n",
        "import requests\n",
        "from conllu import parse\n",
        "from torch.utils.data import Dataset\n",
        "import numpy as np\n",
        "import torch"
      ],
      "metadata": {
        "id": "4n3vtYallaVi"
      },
      "execution_count": null,
      "outputs": []
    },
    {
      "cell_type": "code",
      "source": [
        "model_name = \"xlm-roberta-base\"\n",
        "\n",
        "dataset = download_and_parse(links_to_datasets[\"train\"])\n",
        "\n",
        "# Initialize the tokenizer\n",
        "tokenizer = XLMRobertaTokenizerFast.from_pretrained(model_name)\n",
        "\n",
        "def align_tokens_and_labels(sentence, label_field='upos'):\n",
        "    tokens = [token['form'] for token in sentence]  # Original words from the sentence\n",
        "    labels = [token[label_field] for token in sentence]  # Corresponding labels\n",
        "\n",
        "    # Tokenize the sentence, indicating that the input is pre-tokenized\n",
        "    tokenized_input = tokenizer(tokens, is_split_into_words=True, return_tensors=\"pt\")\n",
        "    word_ids = tokenized_input.word_ids(batch_index=0)\n",
        "\n",
        "    aligned_labels = []\n",
        "    # Iterate over word_ids to assign labels correctly\n",
        "    for i, word_idx in enumerate(word_ids):\n",
        "        if word_idx is None:\n",
        "            aligned_labels.append(-100)  # Assign -100 to special tokens\n",
        "        else:\n",
        "            # If the token starts with \"▁\" and is not just \"▁\", assign the label\n",
        "            if tokenized_input.tokens()[i].startswith(\"▁\") and len(tokenized_input.tokens()[i]) > 1:\n",
        "                aligned_labels.append(labels[word_idx])\n",
        "            elif not tokenized_input.tokens()[i].startswith(\"▁\"):\n",
        "                # Assign the label to the actual word token (not the underscore)\n",
        "                aligned_labels.append(labels[word_idx])\n",
        "            else:\n",
        "                # If it's just \"▁\", assign -100\n",
        "                aligned_labels.append(-100)\n",
        "\n",
        "    return tokenized_input, aligned_labels\n",
        "\n",
        "\n",
        "##### Check if the tokenise and align functions correctly #####\n",
        "# Align tokens and labels for the first sentence as an example\n",
        "first_sentence = dataset[0]\n",
        "tokenized_input, aligned_labels = align_tokens_and_labels(first_sentence)\n",
        "\n",
        "print(first_sentence)\n",
        "print(\"Tokenized input:\", tokenized_input)\n",
        "print(\"Aligned labels:\", aligned_labels)\n",
        "\n",
        "# Convert token IDs back to tokens (words/subwords)\n",
        "tokens = tokenizer.convert_ids_to_tokens(tokenized_input['input_ids'][0])\n",
        "\n",
        "# Print each token with its aligned label\n",
        "for token, label in zip(tokens, aligned_labels):\n",
        "    print(f\"{token} --> {label}\\n\")\n"
      ],
      "metadata": {
        "colab": {
          "base_uri": "https://localhost:8080/"
        },
        "id": "i9kIjYD2ldIx",
        "outputId": "b3b16bfd-56e9-4b7c-9f1b-a3e4fd642954"
      },
      "execution_count": null,
      "outputs": [
        {
          "output_type": "stream",
          "name": "stderr",
          "text": [
            "/usr/local/lib/python3.10/dist-packages/huggingface_hub/utils/_token.py:88: UserWarning: \n",
            "The secret `HF_TOKEN` does not exist in your Colab secrets.\n",
            "To authenticate with the Hugging Face Hub, create a token in your settings tab (https://huggingface.co/settings/tokens), set it as secret in your Google Colab and restart your session.\n",
            "You will be able to reuse this secret in all of your notebooks.\n",
            "Please note that authentication is recommended but still optional to access public models or datasets.\n",
            "  warnings.warn(\n"
          ]
        },
        {
          "output_type": "stream",
          "name": "stdout",
          "text": [
            "TokenList<看似, 簡單, ，, 只, 是, 二, 選, 一, 做, 決擇, ，, 但, 其實, 他們, 代表, 的, 是, 你, 周遭, 的, 親朋, 好友, ，, 試, 著, 給, 你, 不同, 的, 意見, ，, 但, 追根究底, ，, 最後, 決定, 的, 還是, 自己, 。, metadata={sent_id: \"train-s1\", text: \"看似簡單，只是二選一做決擇，但其實他們代表的是你周遭的親朋好友，試著給你不同的意見，但追根究底，最後決定的還是自己。\", translit: \"kànshìjiǎndān,zhǐshì'èrxuǎnyīzuòjuézé,dànqíshítāmendàibiǎodeshìnǐzhōuzāodeqīnpénghǎoyou,shìzhegěinǐbùtóngdeyìjiàn,dànzhuīgēnjiūdǐ,zuìhòujuédìngdeháishìzìjǐ.\"}>\n",
            "Tokenized input: {'input_ids': tensor([[     0,      6, 113875,      6,  32564,      6,      4,      6,   5344,\n",
            "              6,    354,  87744,      6,   6995,  45690,      6,   2213,      6,\n",
            "          33808, 235211,      6,      4,  53072,      6,  16827,      6,   8056,\n",
            "              6,   6959,      6,     43,      6,    354,  73675,      6,   6271,\n",
            "          44162,      6,     43,      6,  11638, 182529,      6,  81070,      6,\n",
            "              4,      6,  12324,      6,   3094,      6,   5862,  73675,      6,\n",
            "           5714,      6,     43,      6,  31505,      6,      4,  53072,      6,\n",
            "          17411,  12442,  78382,  11298,      6,      4,      6,  15394,      6,\n",
            "          17755,      6,     43,      6,  11097,      6,   1652,      6,     30,\n",
            "              2]]), 'attention_mask': tensor([[1, 1, 1, 1, 1, 1, 1, 1, 1, 1, 1, 1, 1, 1, 1, 1, 1, 1, 1, 1, 1, 1, 1, 1,\n",
            "         1, 1, 1, 1, 1, 1, 1, 1, 1, 1, 1, 1, 1, 1, 1, 1, 1, 1, 1, 1, 1, 1, 1, 1,\n",
            "         1, 1, 1, 1, 1, 1, 1, 1, 1, 1, 1, 1, 1, 1, 1, 1, 1, 1, 1, 1, 1, 1, 1, 1,\n",
            "         1, 1, 1, 1, 1, 1, 1, 1, 1, 1]])}\n",
            "Aligned labels: [-100, -100, 'VERB', -100, 'ADJ', -100, 'PUNCT', -100, 'ADV', -100, 'VERB', 'NUM', -100, 'VERB', 'NUM', -100, 'VERB', -100, 'NOUN', 'NOUN', -100, 'PUNCT', 'SCONJ', -100, 'ADV', -100, 'PRON', -100, 'VERB', -100, 'SCONJ', -100, 'AUX', 'PRON', -100, 'NOUN', 'NOUN', -100, 'PART', -100, 'NOUN', 'NOUN', -100, 'NOUN', -100, 'PUNCT', -100, 'VERB', -100, 'AUX', -100, 'VERB', 'PRON', -100, 'ADJ', -100, 'SCONJ', -100, 'NOUN', -100, 'PUNCT', 'SCONJ', -100, 'VERB', 'VERB', 'VERB', 'VERB', -100, 'PUNCT', -100, 'NOUN', -100, 'VERB', -100, 'SCONJ', -100, 'AUX', -100, 'PRON', -100, 'PUNCT', -100]\n",
            "<s> --> -100\n",
            "\n",
            "▁ --> -100\n",
            "\n",
            "看似 --> VERB\n",
            "\n",
            "▁ --> -100\n",
            "\n",
            "簡單 --> ADJ\n",
            "\n",
            "▁ --> -100\n",
            "\n",
            ", --> PUNCT\n",
            "\n",
            "▁ --> -100\n",
            "\n",
            "只 --> ADV\n",
            "\n",
            "▁ --> -100\n",
            "\n",
            "是 --> VERB\n",
            "\n",
            "▁二 --> NUM\n",
            "\n",
            "▁ --> -100\n",
            "\n",
            "選 --> VERB\n",
            "\n",
            "▁一 --> NUM\n",
            "\n",
            "▁ --> -100\n",
            "\n",
            "做 --> VERB\n",
            "\n",
            "▁ --> -100\n",
            "\n",
            "決 --> NOUN\n",
            "\n",
            "擇 --> NOUN\n",
            "\n",
            "▁ --> -100\n",
            "\n",
            ", --> PUNCT\n",
            "\n",
            "▁但 --> SCONJ\n",
            "\n",
            "▁ --> -100\n",
            "\n",
            "其實 --> ADV\n",
            "\n",
            "▁ --> -100\n",
            "\n",
            "他們 --> PRON\n",
            "\n",
            "▁ --> -100\n",
            "\n",
            "代表 --> VERB\n",
            "\n",
            "▁ --> -100\n",
            "\n",
            "的 --> SCONJ\n",
            "\n",
            "▁ --> -100\n",
            "\n",
            "是 --> AUX\n",
            "\n",
            "▁你 --> PRON\n",
            "\n",
            "▁ --> -100\n",
            "\n",
            "周 --> NOUN\n",
            "\n",
            "遭 --> NOUN\n",
            "\n",
            "▁ --> -100\n",
            "\n",
            "的 --> PART\n",
            "\n",
            "▁ --> -100\n",
            "\n",
            "親 --> NOUN\n",
            "\n",
            "朋 --> NOUN\n",
            "\n",
            "▁ --> -100\n",
            "\n",
            "好友 --> NOUN\n",
            "\n",
            "▁ --> -100\n",
            "\n",
            ", --> PUNCT\n",
            "\n",
            "▁ --> -100\n",
            "\n",
            "試 --> VERB\n",
            "\n",
            "▁ --> -100\n",
            "\n",
            "著 --> AUX\n",
            "\n",
            "▁ --> -100\n",
            "\n",
            "給 --> VERB\n",
            "\n",
            "▁你 --> PRON\n",
            "\n",
            "▁ --> -100\n",
            "\n",
            "不同 --> ADJ\n",
            "\n",
            "▁ --> -100\n",
            "\n",
            "的 --> SCONJ\n",
            "\n",
            "▁ --> -100\n",
            "\n",
            "意見 --> NOUN\n",
            "\n",
            "▁ --> -100\n",
            "\n",
            ", --> PUNCT\n",
            "\n",
            "▁但 --> SCONJ\n",
            "\n",
            "▁ --> -100\n",
            "\n",
            "追 --> VERB\n",
            "\n",
            "根 --> VERB\n",
            "\n",
            "究 --> VERB\n",
            "\n",
            "底 --> VERB\n",
            "\n",
            "▁ --> -100\n",
            "\n",
            ", --> PUNCT\n",
            "\n",
            "▁ --> -100\n",
            "\n",
            "最後 --> NOUN\n",
            "\n",
            "▁ --> -100\n",
            "\n",
            "決定 --> VERB\n",
            "\n",
            "▁ --> -100\n",
            "\n",
            "的 --> SCONJ\n",
            "\n",
            "▁ --> -100\n",
            "\n",
            "還是 --> AUX\n",
            "\n",
            "▁ --> -100\n",
            "\n",
            "自己 --> PRON\n",
            "\n",
            "▁ --> -100\n",
            "\n",
            "。 --> PUNCT\n",
            "\n",
            "</s> --> -100\n",
            "\n"
          ]
        }
      ]
    },
    {
      "cell_type": "code",
      "source": [
        "# A class that handles the tokenization and alignment of labels\n",
        "class POSDataset(Dataset):\n",
        "    def __init__(self, data, tokenizer, label_to_id):\n",
        "        self.data = data\n",
        "        self.tokenizer = tokenizer\n",
        "        self.label_to_id = label_to_id\n",
        "\n",
        "    def __len__(self):\n",
        "        return len(self.data)\n",
        "\n",
        "    def encode_labels(self, labels):\n",
        "        # Convert text labels to numerical IDs\n",
        "        return [self.label_to_id[label] if label in self.label_to_id else self.label_to_id[\"O\"] for label in labels]\n",
        "\n",
        "    def align_tokens_and_labels(self, tokens, labels):\n",
        "      # Tokenize the input\n",
        "      tokenized_input = self.tokenizer(tokens, is_split_into_words=True, padding='max_length', truncation=True, max_length=512, return_tensors=\"pt\")\n",
        "      word_ids = tokenized_input.word_ids(batch_index=0)\n",
        "\n",
        "      # Initialize the labels to -100 for each token position\n",
        "      aligned_labels = [-100] * len(tokenized_input['input_ids'][0])  # Adjust the length to match the tokenized input\n",
        "\n",
        "      # Align labels with tokens\n",
        "      for i, word_idx in enumerate(word_ids):\n",
        "          if word_idx is not None:\n",
        "              # If the token starts with \"▁\" and is not just \"▁\", or if it doesn't start with \"▁\"\n",
        "              if (tokenized_input.tokens()[i].startswith(\"▁\") and len(tokenized_input.tokens()[i]) > 1) or not tokenized_input.tokens()[i].startswith(\"▁\"):\n",
        "                  aligned_labels[i] = labels[word_idx]\n",
        "              else:\n",
        "                  # If the token is just \"▁\", keep it as -100\n",
        "                  aligned_labels[i] = -100\n",
        "\n",
        "      tokenized_input['labels'] = torch.tensor(aligned_labels, dtype=torch.long)\n",
        "      return tokenized_input\n",
        "\n",
        "    def __getitem__(self, idx):\n",
        "      item = self.data[idx]\n",
        "      tokens = item['tokens']\n",
        "      # Ensure labels are encoded to numerical IDs before passing\n",
        "      labels = self.encode_labels(item['labels'])\n",
        "\n",
        "      # Get the tokenized inputs and aligned labels\n",
        "      tokenized_input = self.align_tokens_and_labels(tokens, labels)\n",
        "\n",
        "      # Extract input_ids, attention_mask, and labels\n",
        "      input_ids = tokenized_input['input_ids'].squeeze(0) if tokenized_input['input_ids'].size(0) == 1 else tokenized_input['input_ids']  # Ensure this is the correct shape\n",
        "      attention_mask = tokenized_input['attention_mask'].squeeze(0) if tokenized_input['attention_mask'].size(0) == 1 else tokenized_input['attention_mask'] # Ensure this is the correct shape\n",
        "\n",
        "      # Ensure labels are correctly shaped\n",
        "      labels = tokenized_input['labels']\n",
        "      # Verify the shapes\n",
        "      assert input_ids.size(0) == 512 and attention_mask.size(0) == 512, \"Sequence length should be 512\"\n",
        "\n",
        "\n",
        "      return {\n",
        "          'input_ids': input_ids,\n",
        "          'attention_mask': attention_mask,\n",
        "          'labels': labels\n",
        "      }\n"
      ],
      "metadata": {
        "id": "t0D4db2mIfOs"
      },
      "execution_count": null,
      "outputs": []
    },
    {
      "cell_type": "code",
      "source": [
        "def parse_dataset(data):\n",
        "    sentences = []\n",
        "    for sentence in data:\n",
        "        tokens = [token['form'] for token in sentence]\n",
        "        labels = [token['upos'] for token in sentence]\n",
        "        sentences.append({'tokens': tokens, 'labels': labels})\n",
        "    return sentences\n",
        "\n",
        "train_data = parse_dataset(download_and_parse(links_to_datasets[\"train\"]))\n",
        "test_data = parse_dataset(download_and_parse(links_to_datasets[\"test\"]))\n",
        "\n",
        "# Convert POS tags to unique IDs\n",
        "unique_labels = set(label for sentence in (train_data + test_data) for label in sentence['labels'])\n",
        "label_to_id = {label: id for id, label in enumerate(unique_labels)}\n",
        "print(\"Unique Labels: \", unique_labels)\n",
        "print(\"Number of Unique Labels: \", len(unique_labels))\n",
        "\n",
        "# Initialize the datasets\n",
        "train_dataset = POSDataset(train_data, tokenizer, label_to_id)\n",
        "test_dataset = POSDataset(test_data, tokenizer, label_to_id)\n"
      ],
      "metadata": {
        "colab": {
          "base_uri": "https://localhost:8080/"
        },
        "id": "duLxnYLRKX41",
        "outputId": "fa2f64f1-3d43-4200-d72e-2ea636e2f210"
      },
      "execution_count": null,
      "outputs": [
        {
          "output_type": "stream",
          "name": "stdout",
          "text": [
            "Unique Labels:  {'SYM', 'VERB', 'NUM', 'SCONJ', 'ADV', 'PRON', 'ADP', 'AUX', 'X', 'NOUN', 'DET', 'PUNCT', 'CCONJ', 'PROPN', 'ADJ', 'PART'}\n",
            "Number of Unique Labels:  16\n"
          ]
        }
      ]
    },
    {
      "cell_type": "code",
      "source": [
        "sample = train_dataset[0]\n",
        "print(f\"Input IDs length: {len(sample['input_ids'])}\")\n",
        "print(f\"Attention mask length: {len(sample['attention_mask'])}\")\n",
        "print(f\"Labels length: {len(sample['labels'])}\")\n"
      ],
      "metadata": {
        "colab": {
          "base_uri": "https://localhost:8080/"
        },
        "id": "teF6mXQ2G247",
        "outputId": "7fee7706-312a-4e04-f37d-5b67f1e71587"
      },
      "execution_count": null,
      "outputs": [
        {
          "output_type": "stream",
          "name": "stdout",
          "text": [
            "Input IDs length: 512\n",
            "Attention mask length: 512\n",
            "Labels length: 512\n"
          ]
        }
      ]
    },
    {
      "cell_type": "markdown",
      "source": [
        "## 3. Training the Model"
      ],
      "metadata": {
        "id": "VTavOex9GV-T"
      }
    },
    {
      "cell_type": "code",
      "source": [
        "from sklearn.metrics import accuracy_score, precision_recall_fscore_support\n",
        "import torch\n",
        "import torch.nn as nn\n",
        "import torch.optim as optim\n",
        "import matplotlib.pyplot as plt\n",
        "from collections import defaultdict\n"
      ],
      "metadata": {
        "id": "Tk6izaOHIRe2"
      },
      "execution_count": null,
      "outputs": []
    },
    {
      "cell_type": "code",
      "source": [
        "!pip install accelerate -U\n"
      ],
      "metadata": {
        "colab": {
          "base_uri": "https://localhost:8080/"
        },
        "id": "tER003IeNPlX",
        "outputId": "88bdafc8-ca07-4d28-8666-72005b17fae7"
      },
      "execution_count": null,
      "outputs": [
        {
          "output_type": "stream",
          "name": "stdout",
          "text": [
            "Requirement already satisfied: accelerate in /usr/local/lib/python3.10/dist-packages (0.27.2)\n",
            "Requirement already satisfied: numpy>=1.17 in /usr/local/lib/python3.10/dist-packages (from accelerate) (1.25.2)\n",
            "Requirement already satisfied: packaging>=20.0 in /usr/local/lib/python3.10/dist-packages (from accelerate) (23.2)\n",
            "Requirement already satisfied: psutil in /usr/local/lib/python3.10/dist-packages (from accelerate) (5.9.5)\n",
            "Requirement already satisfied: pyyaml in /usr/local/lib/python3.10/dist-packages (from accelerate) (6.0.1)\n",
            "Requirement already satisfied: torch>=1.10.0 in /usr/local/lib/python3.10/dist-packages (from accelerate) (2.1.0+cu121)\n",
            "Requirement already satisfied: huggingface-hub in /usr/local/lib/python3.10/dist-packages (from accelerate) (0.20.3)\n",
            "Requirement already satisfied: safetensors>=0.3.1 in /usr/local/lib/python3.10/dist-packages (from accelerate) (0.4.2)\n",
            "Requirement already satisfied: filelock in /usr/local/lib/python3.10/dist-packages (from torch>=1.10.0->accelerate) (3.13.1)\n",
            "Requirement already satisfied: typing-extensions in /usr/local/lib/python3.10/dist-packages (from torch>=1.10.0->accelerate) (4.10.0)\n",
            "Requirement already satisfied: sympy in /usr/local/lib/python3.10/dist-packages (from torch>=1.10.0->accelerate) (1.12)\n",
            "Requirement already satisfied: networkx in /usr/local/lib/python3.10/dist-packages (from torch>=1.10.0->accelerate) (3.2.1)\n",
            "Requirement already satisfied: jinja2 in /usr/local/lib/python3.10/dist-packages (from torch>=1.10.0->accelerate) (3.1.3)\n",
            "Requirement already satisfied: fsspec in /usr/local/lib/python3.10/dist-packages (from torch>=1.10.0->accelerate) (2023.6.0)\n",
            "Requirement already satisfied: triton==2.1.0 in /usr/local/lib/python3.10/dist-packages (from torch>=1.10.0->accelerate) (2.1.0)\n",
            "Requirement already satisfied: requests in /usr/local/lib/python3.10/dist-packages (from huggingface-hub->accelerate) (2.31.0)\n",
            "Requirement already satisfied: tqdm>=4.42.1 in /usr/local/lib/python3.10/dist-packages (from huggingface-hub->accelerate) (4.66.2)\n",
            "Requirement already satisfied: MarkupSafe>=2.0 in /usr/local/lib/python3.10/dist-packages (from jinja2->torch>=1.10.0->accelerate) (2.1.5)\n",
            "Requirement already satisfied: charset-normalizer<4,>=2 in /usr/local/lib/python3.10/dist-packages (from requests->huggingface-hub->accelerate) (3.3.2)\n",
            "Requirement already satisfied: idna<4,>=2.5 in /usr/local/lib/python3.10/dist-packages (from requests->huggingface-hub->accelerate) (3.6)\n",
            "Requirement already satisfied: urllib3<3,>=1.21.1 in /usr/local/lib/python3.10/dist-packages (from requests->huggingface-hub->accelerate) (2.0.7)\n",
            "Requirement already satisfied: certifi>=2017.4.17 in /usr/local/lib/python3.10/dist-packages (from requests->huggingface-hub->accelerate) (2024.2.2)\n",
            "Requirement already satisfied: mpmath>=0.19 in /usr/local/lib/python3.10/dist-packages (from sympy->torch>=1.10.0->accelerate) (1.3.0)\n"
          ]
        }
      ]
    },
    {
      "cell_type": "code",
      "source": [
        "import accelerate\n",
        "print(accelerate.__version__)\n"
      ],
      "metadata": {
        "colab": {
          "base_uri": "https://localhost:8080/"
        },
        "id": "Rdx1PIwVN6m1",
        "outputId": "7aa767b2-f65d-4627-ed23-316a45f103fd"
      },
      "execution_count": null,
      "outputs": [
        {
          "output_type": "stream",
          "name": "stdout",
          "text": [
            "0.27.2\n"
          ]
        }
      ]
    },
    {
      "cell_type": "code",
      "source": [
        "!pip install wandb"
      ],
      "metadata": {
        "colab": {
          "base_uri": "https://localhost:8080/"
        },
        "id": "01Y_iP7xWvOB",
        "outputId": "eb4f2f85-d803-4213-e44e-06764dec18af"
      },
      "execution_count": null,
      "outputs": [
        {
          "output_type": "stream",
          "name": "stdout",
          "text": [
            "Collecting wandb\n",
            "  Downloading wandb-0.16.4-py3-none-any.whl (2.2 MB)\n",
            "\u001b[2K     \u001b[90m━━━━━━━━━━━━━━━━━━━━━━━━━━━━━━━━━━━━━━━━\u001b[0m \u001b[32m2.2/2.2 MB\u001b[0m \u001b[31m10.8 MB/s\u001b[0m eta \u001b[36m0:00:00\u001b[0m\n",
            "\u001b[?25hRequirement already satisfied: Click!=8.0.0,>=7.1 in /usr/local/lib/python3.10/dist-packages (from wandb) (8.1.7)\n",
            "Collecting GitPython!=3.1.29,>=1.0.0 (from wandb)\n",
            "  Downloading GitPython-3.1.42-py3-none-any.whl (195 kB)\n",
            "\u001b[2K     \u001b[90m━━━━━━━━━━━━━━━━━━━━━━━━━━━━━━━━━━━━━━━━\u001b[0m \u001b[32m195.4/195.4 kB\u001b[0m \u001b[31m20.4 MB/s\u001b[0m eta \u001b[36m0:00:00\u001b[0m\n",
            "\u001b[?25hRequirement already satisfied: requests<3,>=2.0.0 in /usr/local/lib/python3.10/dist-packages (from wandb) (2.31.0)\n",
            "Requirement already satisfied: psutil>=5.0.0 in /usr/local/lib/python3.10/dist-packages (from wandb) (5.9.5)\n",
            "Collecting sentry-sdk>=1.0.0 (from wandb)\n",
            "  Downloading sentry_sdk-1.40.6-py2.py3-none-any.whl (258 kB)\n",
            "\u001b[2K     \u001b[90m━━━━━━━━━━━━━━━━━━━━━━━━━━━━━━━━━━━━━━━━\u001b[0m \u001b[32m258.5/258.5 kB\u001b[0m \u001b[31m21.2 MB/s\u001b[0m eta \u001b[36m0:00:00\u001b[0m\n",
            "\u001b[?25hCollecting docker-pycreds>=0.4.0 (from wandb)\n",
            "  Downloading docker_pycreds-0.4.0-py2.py3-none-any.whl (9.0 kB)\n",
            "Requirement already satisfied: PyYAML in /usr/local/lib/python3.10/dist-packages (from wandb) (6.0.1)\n",
            "Collecting setproctitle (from wandb)\n",
            "  Downloading setproctitle-1.3.3-cp310-cp310-manylinux_2_5_x86_64.manylinux1_x86_64.manylinux_2_17_x86_64.manylinux2014_x86_64.whl (30 kB)\n",
            "Requirement already satisfied: setuptools in /usr/local/lib/python3.10/dist-packages (from wandb) (67.7.2)\n",
            "Requirement already satisfied: appdirs>=1.4.3 in /usr/local/lib/python3.10/dist-packages (from wandb) (1.4.4)\n",
            "Requirement already satisfied: protobuf!=4.21.0,<5,>=3.19.0 in /usr/local/lib/python3.10/dist-packages (from wandb) (3.20.3)\n",
            "Requirement already satisfied: six>=1.4.0 in /usr/local/lib/python3.10/dist-packages (from docker-pycreds>=0.4.0->wandb) (1.16.0)\n",
            "Collecting gitdb<5,>=4.0.1 (from GitPython!=3.1.29,>=1.0.0->wandb)\n",
            "  Downloading gitdb-4.0.11-py3-none-any.whl (62 kB)\n",
            "\u001b[2K     \u001b[90m━━━━━━━━━━━━━━━━━━━━━━━━━━━━━━━━━━━━━━━━\u001b[0m \u001b[32m62.7/62.7 kB\u001b[0m \u001b[31m9.5 MB/s\u001b[0m eta \u001b[36m0:00:00\u001b[0m\n",
            "\u001b[?25hRequirement already satisfied: charset-normalizer<4,>=2 in /usr/local/lib/python3.10/dist-packages (from requests<3,>=2.0.0->wandb) (3.3.2)\n",
            "Requirement already satisfied: idna<4,>=2.5 in /usr/local/lib/python3.10/dist-packages (from requests<3,>=2.0.0->wandb) (3.6)\n",
            "Requirement already satisfied: urllib3<3,>=1.21.1 in /usr/local/lib/python3.10/dist-packages (from requests<3,>=2.0.0->wandb) (2.0.7)\n",
            "Requirement already satisfied: certifi>=2017.4.17 in /usr/local/lib/python3.10/dist-packages (from requests<3,>=2.0.0->wandb) (2024.2.2)\n",
            "Collecting smmap<6,>=3.0.1 (from gitdb<5,>=4.0.1->GitPython!=3.1.29,>=1.0.0->wandb)\n",
            "  Downloading smmap-5.0.1-py3-none-any.whl (24 kB)\n",
            "Installing collected packages: smmap, setproctitle, sentry-sdk, docker-pycreds, gitdb, GitPython, wandb\n",
            "Successfully installed GitPython-3.1.42 docker-pycreds-0.4.0 gitdb-4.0.11 sentry-sdk-1.40.6 setproctitle-1.3.3 smmap-5.0.1 wandb-0.16.4\n"
          ]
        }
      ]
    },
    {
      "cell_type": "code",
      "source": [
        "import os\n",
        "import wandb\n",
        "os.environ['TOKENIZERS_PARALLELISM'] = 'false' # disable parallel tokenization.\n",
        "os.environ['WANDB_API_KEY'] = 'my_wandb_api_key'"
      ],
      "metadata": {
        "id": "dB5gAIprKJbE"
      },
      "execution_count": null,
      "outputs": []
    },
    {
      "cell_type": "code",
      "source": [
        "!pip install transformers[torch] accelerate -U\n",
        "\n"
      ],
      "metadata": {
        "id": "oRv9UZbrN8b_",
        "colab": {
          "base_uri": "https://localhost:8080/",
          "height": 796
        },
        "outputId": "b33e2480-68d4-4a18-ccd5-19b51f198428"
      },
      "execution_count": null,
      "outputs": [
        {
          "output_type": "stream",
          "name": "stdout",
          "text": [
            "Requirement already satisfied: transformers[torch] in /usr/local/lib/python3.10/dist-packages (4.38.1)\n",
            "Collecting transformers[torch]\n",
            "  Downloading transformers-4.38.2-py3-none-any.whl (8.5 MB)\n",
            "\u001b[2K     \u001b[90m━━━━━━━━━━━━━━━━━━━━━━━━━━━━━━━━━━━━━━━━\u001b[0m \u001b[32m8.5/8.5 MB\u001b[0m \u001b[31m19.3 MB/s\u001b[0m eta \u001b[36m0:00:00\u001b[0m\n",
            "\u001b[?25hCollecting accelerate\n",
            "  Downloading accelerate-0.27.2-py3-none-any.whl (279 kB)\n",
            "\u001b[2K     \u001b[90m━━━━━━━━━━━━━━━━━━━━━━━━━━━━━━━━━━━━━━━━\u001b[0m \u001b[32m280.0/280.0 kB\u001b[0m \u001b[31m36.8 MB/s\u001b[0m eta \u001b[36m0:00:00\u001b[0m\n",
            "\u001b[?25hRequirement already satisfied: filelock in /usr/local/lib/python3.10/dist-packages (from transformers[torch]) (3.13.1)\n",
            "Requirement already satisfied: huggingface-hub<1.0,>=0.19.3 in /usr/local/lib/python3.10/dist-packages (from transformers[torch]) (0.20.3)\n",
            "Requirement already satisfied: numpy>=1.17 in /usr/local/lib/python3.10/dist-packages (from transformers[torch]) (1.25.2)\n",
            "Requirement already satisfied: packaging>=20.0 in /usr/local/lib/python3.10/dist-packages (from transformers[torch]) (23.2)\n",
            "Requirement already satisfied: pyyaml>=5.1 in /usr/local/lib/python3.10/dist-packages (from transformers[torch]) (6.0.1)\n",
            "Requirement already satisfied: regex!=2019.12.17 in /usr/local/lib/python3.10/dist-packages (from transformers[torch]) (2023.12.25)\n",
            "Requirement already satisfied: requests in /usr/local/lib/python3.10/dist-packages (from transformers[torch]) (2.31.0)\n",
            "Requirement already satisfied: tokenizers<0.19,>=0.14 in /usr/local/lib/python3.10/dist-packages (from transformers[torch]) (0.15.2)\n",
            "Requirement already satisfied: safetensors>=0.4.1 in /usr/local/lib/python3.10/dist-packages (from transformers[torch]) (0.4.2)\n",
            "Requirement already satisfied: tqdm>=4.27 in /usr/local/lib/python3.10/dist-packages (from transformers[torch]) (4.66.2)\n",
            "Requirement already satisfied: torch in /usr/local/lib/python3.10/dist-packages (from transformers[torch]) (2.1.0+cu121)\n",
            "Requirement already satisfied: psutil in /usr/local/lib/python3.10/dist-packages (from accelerate) (5.9.5)\n",
            "Requirement already satisfied: fsspec>=2023.5.0 in /usr/local/lib/python3.10/dist-packages (from huggingface-hub<1.0,>=0.19.3->transformers[torch]) (2023.6.0)\n",
            "Requirement already satisfied: typing-extensions>=3.7.4.3 in /usr/local/lib/python3.10/dist-packages (from huggingface-hub<1.0,>=0.19.3->transformers[torch]) (4.10.0)\n",
            "Requirement already satisfied: sympy in /usr/local/lib/python3.10/dist-packages (from torch->transformers[torch]) (1.12)\n",
            "Requirement already satisfied: networkx in /usr/local/lib/python3.10/dist-packages (from torch->transformers[torch]) (3.2.1)\n",
            "Requirement already satisfied: jinja2 in /usr/local/lib/python3.10/dist-packages (from torch->transformers[torch]) (3.1.3)\n",
            "Requirement already satisfied: triton==2.1.0 in /usr/local/lib/python3.10/dist-packages (from torch->transformers[torch]) (2.1.0)\n",
            "Requirement already satisfied: charset-normalizer<4,>=2 in /usr/local/lib/python3.10/dist-packages (from requests->transformers[torch]) (3.3.2)\n",
            "Requirement already satisfied: idna<4,>=2.5 in /usr/local/lib/python3.10/dist-packages (from requests->transformers[torch]) (3.6)\n",
            "Requirement already satisfied: urllib3<3,>=1.21.1 in /usr/local/lib/python3.10/dist-packages (from requests->transformers[torch]) (2.0.7)\n",
            "Requirement already satisfied: certifi>=2017.4.17 in /usr/local/lib/python3.10/dist-packages (from requests->transformers[torch]) (2024.2.2)\n",
            "Requirement already satisfied: MarkupSafe>=2.0 in /usr/local/lib/python3.10/dist-packages (from jinja2->torch->transformers[torch]) (2.1.5)\n",
            "Requirement already satisfied: mpmath>=0.19 in /usr/local/lib/python3.10/dist-packages (from sympy->torch->transformers[torch]) (1.3.0)\n",
            "Installing collected packages: accelerate, transformers\n",
            "  Attempting uninstall: transformers\n",
            "    Found existing installation: transformers 4.38.1\n",
            "    Uninstalling transformers-4.38.1:\n",
            "      Successfully uninstalled transformers-4.38.1\n",
            "Successfully installed accelerate-0.27.2 transformers-4.38.2\n"
          ]
        },
        {
          "output_type": "display_data",
          "data": {
            "application/vnd.colab-display-data+json": {
              "pip_warning": {
                "packages": [
                  "transformers"
                ]
              },
              "id": "71f6220ffc4241fd89b6ac2ab7ddc1a8"
            }
          },
          "metadata": {}
        }
      ]
    },
    {
      "cell_type": "code",
      "source": [
        "model = XLMRobertaForTokenClassification.from_pretrained(model_name, num_labels=len(unique_labels))\n",
        "\n",
        "# Freeze all layers except the classifier\n",
        "for param in model.roberta.parameters():\n",
        "    param.requires_grad = False\n",
        "\n",
        "# Move the model to GPU\n",
        "device = torch.device(\"cuda\" if torch.cuda.is_available() else \"cpu\")\n",
        "model.to(device)\n",
        "\n",
        "loss_function = nn.CrossEntropyLoss(ignore_index=-100)\n",
        "optimizer = optim.Adam(model.parameters())\n",
        "\n",
        "\n",
        "def compute_metrics(p):\n",
        "    predictions, labels = p.predictions, p.label_ids\n",
        "    predictions = np.argmax(predictions, axis=2).flatten()\n",
        "    true_labels = labels.flatten()\n",
        "    valid_indices = true_labels != -100\n",
        "    true_labels = true_labels[valid_indices]\n",
        "    pred_labels = predictions[valid_indices]\n",
        "    accuracy = np.sum(true_labels == pred_labels) / len(true_labels)\n",
        "    return {'accuracy': accuracy}\n",
        "\n",
        "\n",
        "training_args = TrainingArguments(\n",
        "    output_dir='./results',\n",
        "    num_train_epochs=12,\n",
        "    per_device_train_batch_size=8, #16\n",
        "    per_device_eval_batch_size=32,\n",
        "    evaluation_strategy=\"epoch\",\n",
        "    logging_steps=10,\n",
        "    learning_rate=1e-3, #2e-5, 1e-4\n",
        ")\n",
        "\n",
        "# Initialize wandb\n",
        "wandb.init(project='Chinese POS tagging with RoBERTa', entity='hohsuann')\n",
        "wandb.config = {\n",
        "  \"learning_rate\": 0.001,\n",
        "  \"epochs\": training_args.num_train_epochs,\n",
        "  \"batch_size\": 32\n",
        "}\n",
        "\n",
        "print(\"Starting training...\")\n",
        "\n",
        "trainer = Trainer(\n",
        "    model=model,\n",
        "    args=training_args,\n",
        "    train_dataset=train_dataset,\n",
        "    eval_dataset=test_dataset,\n",
        "    compute_metrics=compute_metrics,\n",
        ")\n",
        "\n",
        "trainer.train()\n",
        "\n",
        "print(\"Training completed.\")\n",
        "\n",
        "wandb.finish()\n",
        "\n",
        "# Visualize Training and Validation Loss\n",
        "log_history = trainer.state.log_history\n",
        "\n",
        "# Calculate average losses per epoch\n",
        "epoch_training_loss = defaultdict(list)\n",
        "epoch_validation_loss = defaultdict(list)\n",
        "\n",
        "for log in log_history:\n",
        "    if 'loss' in log and 'eval_loss' not in log:\n",
        "        epoch_training_loss[log['epoch']].append(log['loss'])\n",
        "    if 'eval_loss' in log:\n",
        "        epoch_validation_loss[log['epoch']].append(log['eval_loss'])\n",
        "\n",
        "# Calculate the mean of the losses per epoch\n",
        "avg_training_loss = [sum(losses) / len(losses) for epoch, losses in sorted(epoch_training_loss.items())]\n",
        "avg_validation_loss = [sum(losses) / len(losses) for epoch, losses in sorted(epoch_validation_loss.items())]\n",
        "\n",
        "num_epochs = training_args.num_train_epochs\n",
        "\n",
        "plt.figure(figsize=(10, 6))\n",
        "plt.figure(figsize=(10, 6))\n",
        "plt.plot(range(1, num_epochs + 1), avg_training_loss[:num_epochs], label='Training loss')\n",
        "plt.plot(range(1, num_epochs + 1), avg_validation_loss[:num_epochs], label='Validation loss')\n",
        "plt.xlabel('Epochs')\n",
        "plt.ylabel('Loss')\n",
        "plt.legend()\n",
        "plt.title('Training and Validation Loss')\n",
        "plt.xticks(range(1, num_epochs + 1))\n",
        "plt.show()\n",
        "\n",
        "# Plotting Accuracy vs Epochs\n",
        "accuracy_scores = [log['eval_accuracy'] for log in trainer.state.log_history if 'eval_accuracy' in log]\n",
        "\n",
        "plt.figure(figsize=(10, 6))\n",
        "plt.plot(range(1, num_epochs + 1), accuracy_scores, label='Validation Accuracy')\n",
        "plt.xlabel('Epochs')\n",
        "plt.ylabel('Accuracy')\n",
        "plt.legend()\n",
        "plt.title('Accuracy vs. Epochs')\n",
        "plt.xticks(range(1, num_epochs + 1))\n",
        "plt.show()\n"
      ],
      "metadata": {
        "colab": {
          "base_uri": "https://localhost:8080/",
          "height": 1000,
          "referenced_widgets": [
            "48c4adbe0e604c58ad946350b3b0367c",
            "e4c9105b4e24441ba13d62c1701c8379",
            "7baa2e454cb643e58837d1793b025cd0",
            "f2dbfdf3284040a2936fa0f192cccc17",
            "6697f2f82e9a4c3fad2bfc25fa322c2f",
            "688ff1f193234c45bab39bfcd07a7004",
            "8a5e39b56cd747fc9c10a6c13680de22",
            "f2ce671208594d7e83a2312609d18607"
          ]
        },
        "id": "JxzMjw1_GY6k",
        "outputId": "0aa8b412-d7da-493f-dcae-f5d81a521e31"
      },
      "execution_count": null,
      "outputs": [
        {
          "output_type": "stream",
          "name": "stderr",
          "text": [
            "Some weights of XLMRobertaForTokenClassification were not initialized from the model checkpoint at xlm-roberta-base and are newly initialized: ['classifier.bias', 'classifier.weight']\n",
            "You should probably TRAIN this model on a down-stream task to be able to use it for predictions and inference.\n"
          ]
        },
        {
          "output_type": "display_data",
          "data": {
            "text/plain": [
              "<IPython.core.display.HTML object>"
            ],
            "text/html": [
              "Tracking run with wandb version 0.16.4"
            ]
          },
          "metadata": {}
        },
        {
          "output_type": "display_data",
          "data": {
            "text/plain": [
              "<IPython.core.display.HTML object>"
            ],
            "text/html": [
              "Run data is saved locally in <code>/content/wandb/run-20240306_105124-2zhxsma9</code>"
            ]
          },
          "metadata": {}
        },
        {
          "output_type": "display_data",
          "data": {
            "text/plain": [
              "<IPython.core.display.HTML object>"
            ],
            "text/html": [
              "Syncing run <strong><a href='https://wandb.ai/hohsuann/Chinese%20POS%20tagging%20with%20RoBERTa/runs/2zhxsma9' target=\"_blank\">warm-yogurt-2</a></strong> to <a href='https://wandb.ai/hohsuann/Chinese%20POS%20tagging%20with%20RoBERTa' target=\"_blank\">Weights & Biases</a> (<a href='https://wandb.me/run' target=\"_blank\">docs</a>)<br/>"
            ]
          },
          "metadata": {}
        },
        {
          "output_type": "display_data",
          "data": {
            "text/plain": [
              "<IPython.core.display.HTML object>"
            ],
            "text/html": [
              " View project at <a href='https://wandb.ai/hohsuann/Chinese%20POS%20tagging%20with%20RoBERTa' target=\"_blank\">https://wandb.ai/hohsuann/Chinese%20POS%20tagging%20with%20RoBERTa</a>"
            ]
          },
          "metadata": {}
        },
        {
          "output_type": "display_data",
          "data": {
            "text/plain": [
              "<IPython.core.display.HTML object>"
            ],
            "text/html": [
              " View run at <a href='https://wandb.ai/hohsuann/Chinese%20POS%20tagging%20with%20RoBERTa/runs/2zhxsma9' target=\"_blank\">https://wandb.ai/hohsuann/Chinese%20POS%20tagging%20with%20RoBERTa/runs/2zhxsma9</a>"
            ]
          },
          "metadata": {}
        },
        {
          "output_type": "stream",
          "name": "stdout",
          "text": [
            "Starting training...\n"
          ]
        },
        {
          "output_type": "display_data",
          "data": {
            "text/plain": [
              "<IPython.core.display.HTML object>"
            ],
            "text/html": [
              "\n",
              "    <div>\n",
              "      \n",
              "      <progress value='6000' max='6000' style='width:300px; height:20px; vertical-align: middle;'></progress>\n",
              "      [6000/6000 20:34, Epoch 12/12]\n",
              "    </div>\n",
              "    <table border=\"1\" class=\"dataframe\">\n",
              "  <thead>\n",
              " <tr style=\"text-align: left;\">\n",
              "      <th>Epoch</th>\n",
              "      <th>Training Loss</th>\n",
              "      <th>Validation Loss</th>\n",
              "      <th>Accuracy</th>\n",
              "    </tr>\n",
              "  </thead>\n",
              "  <tbody>\n",
              "    <tr>\n",
              "      <td>1</td>\n",
              "      <td>0.742200</td>\n",
              "      <td>0.613459</td>\n",
              "      <td>0.826330</td>\n",
              "    </tr>\n",
              "    <tr>\n",
              "      <td>2</td>\n",
              "      <td>0.536700</td>\n",
              "      <td>0.445418</td>\n",
              "      <td>0.866730</td>\n",
              "    </tr>\n",
              "    <tr>\n",
              "      <td>3</td>\n",
              "      <td>0.507200</td>\n",
              "      <td>0.385907</td>\n",
              "      <td>0.878398</td>\n",
              "    </tr>\n",
              "    <tr>\n",
              "      <td>4</td>\n",
              "      <td>0.433600</td>\n",
              "      <td>0.355882</td>\n",
              "      <td>0.885951</td>\n",
              "    </tr>\n",
              "    <tr>\n",
              "      <td>5</td>\n",
              "      <td>0.456800</td>\n",
              "      <td>0.337056</td>\n",
              "      <td>0.892156</td>\n",
              "    </tr>\n",
              "    <tr>\n",
              "      <td>6</td>\n",
              "      <td>0.434000</td>\n",
              "      <td>0.324560</td>\n",
              "      <td>0.895731</td>\n",
              "    </tr>\n",
              "    <tr>\n",
              "      <td>7</td>\n",
              "      <td>0.401100</td>\n",
              "      <td>0.316432</td>\n",
              "      <td>0.897349</td>\n",
              "    </tr>\n",
              "    <tr>\n",
              "      <td>8</td>\n",
              "      <td>0.408600</td>\n",
              "      <td>0.310486</td>\n",
              "      <td>0.897282</td>\n",
              "    </tr>\n",
              "    <tr>\n",
              "      <td>9</td>\n",
              "      <td>0.378100</td>\n",
              "      <td>0.306666</td>\n",
              "      <td>0.898496</td>\n",
              "    </tr>\n",
              "    <tr>\n",
              "      <td>10</td>\n",
              "      <td>0.408600</td>\n",
              "      <td>0.304042</td>\n",
              "      <td>0.899980</td>\n",
              "    </tr>\n",
              "    <tr>\n",
              "      <td>11</td>\n",
              "      <td>0.411100</td>\n",
              "      <td>0.301599</td>\n",
              "      <td>0.901464</td>\n",
              "    </tr>\n",
              "    <tr>\n",
              "      <td>12</td>\n",
              "      <td>0.376100</td>\n",
              "      <td>0.300982</td>\n",
              "      <td>0.901464</td>\n",
              "    </tr>\n",
              "  </tbody>\n",
              "</table><p>"
            ]
          },
          "metadata": {}
        },
        {
          "output_type": "stream",
          "name": "stderr",
          "text": [
            "Checkpoint destination directory ./results/checkpoint-500 already exists and is non-empty. Saving will proceed but saved results may be invalid.\n",
            "Checkpoint destination directory ./results/checkpoint-1000 already exists and is non-empty. Saving will proceed but saved results may be invalid.\n"
          ]
        },
        {
          "output_type": "stream",
          "name": "stdout",
          "text": [
            "Training completed.\n"
          ]
        },
        {
          "output_type": "display_data",
          "data": {
            "text/plain": [
              "VBox(children=(Label(value='0.001 MB of 0.001 MB uploaded\\r'), FloatProgress(value=1.0, max=1.0)))"
            ],
            "application/vnd.jupyter.widget-view+json": {
              "version_major": 2,
              "version_minor": 0,
              "model_id": "48c4adbe0e604c58ad946350b3b0367c"
            }
          },
          "metadata": {}
        },
        {
          "output_type": "display_data",
          "data": {
            "text/plain": [
              "<IPython.core.display.HTML object>"
            ],
            "text/html": [
              "<style>\n",
              "    table.wandb td:nth-child(1) { padding: 0 10px; text-align: left ; width: auto;} td:nth-child(2) {text-align: left ; width: 100%}\n",
              "    .wandb-row { display: flex; flex-direction: row; flex-wrap: wrap; justify-content: flex-start; width: 100% }\n",
              "    .wandb-col { display: flex; flex-direction: column; flex-basis: 100%; flex: 1; padding: 10px; }\n",
              "    </style>\n",
              "<div class=\"wandb-row\"><div class=\"wandb-col\"><h3>Run history:</h3><br/><table class=\"wandb\"><tr><td>eval/accuracy</td><td>▁▅▆▇▇▇██████</td></tr><tr><td>eval/loss</td><td>█▄▃▂▂▂▁▁▁▁▁▁</td></tr><tr><td>eval/runtime</td><td>█▅▅▅▅▂▂▆▅▅▆▁</td></tr><tr><td>eval/samples_per_second</td><td>▁▄▄▄▄▇▇▃▄▄▃█</td></tr><tr><td>eval/steps_per_second</td><td>▁▄▄▄▄▇▇▃▄▄▃█</td></tr><tr><td>train/epoch</td><td>▁▁▁▁▂▂▂▂▂▃▃▃▃▃▃▄▄▄▄▄▅▅▅▅▅▅▆▆▆▆▆▇▇▇▇▇▇███</td></tr><tr><td>train/global_step</td><td>▁▁▁▁▂▂▂▂▂▃▃▃▃▃▃▄▄▄▄▄▅▅▅▅▅▅▆▆▆▆▆▇▇▇▇▇▇███</td></tr><tr><td>train/grad_norm</td><td>▇▅▃█▃▄▃▇▃▂▂▂▂▃▃▂▂▂▄▂▆▃▃▄▄▂▃▃▂▃▃▂▂▁▂▃▁▁▁▂</td></tr><tr><td>train/learning_rate</td><td>████▇▇▇▇▇▆▆▆▆▆▆▅▅▅▅▅▅▄▄▄▄▄▃▃▃▃▃▃▂▂▂▂▂▁▁▁</td></tr><tr><td>train/loss</td><td>█▆▄▃▃▂▂▂▂▂▂▂▁▁▁▁▂▁▁▁▁▁▁▁▁▁▁▁▁▁▁▁▁▁▁▁▁▁▁▁</td></tr><tr><td>train/total_flos</td><td>▁</td></tr><tr><td>train/train_loss</td><td>▁</td></tr><tr><td>train/train_runtime</td><td>▁</td></tr><tr><td>train/train_samples_per_second</td><td>▁</td></tr><tr><td>train/train_steps_per_second</td><td>▁</td></tr></table><br/></div><div class=\"wandb-col\"><h3>Run summary:</h3><br/><table class=\"wandb\"><tr><td>eval/accuracy</td><td>0.90146</td></tr><tr><td>eval/loss</td><td>0.30098</td></tr><tr><td>eval/runtime</td><td>8.9215</td></tr><tr><td>eval/samples_per_second</td><td>56.045</td></tr><tr><td>eval/steps_per_second</td><td>1.793</td></tr><tr><td>train/epoch</td><td>12.0</td></tr><tr><td>train/global_step</td><td>6000</td></tr><tr><td>train/grad_norm</td><td>0.6562</td></tr><tr><td>train/learning_rate</td><td>0.0</td></tr><tr><td>train/loss</td><td>0.3761</td></tr><tr><td>train/total_flos</td><td>1.2534423960748032e+16</td></tr><tr><td>train/train_loss</td><td>0.51353</td></tr><tr><td>train/train_runtime</td><td>1234.5664</td></tr><tr><td>train/train_samples_per_second</td><td>38.851</td></tr><tr><td>train/train_steps_per_second</td><td>4.86</td></tr></table><br/></div></div>"
            ]
          },
          "metadata": {}
        },
        {
          "output_type": "display_data",
          "data": {
            "text/plain": [
              "<IPython.core.display.HTML object>"
            ],
            "text/html": [
              " View run <strong style=\"color:#cdcd00\">warm-yogurt-2</strong> at: <a href='https://wandb.ai/hohsuann/Chinese%20POS%20tagging%20with%20RoBERTa/runs/2zhxsma9' target=\"_blank\">https://wandb.ai/hohsuann/Chinese%20POS%20tagging%20with%20RoBERTa/runs/2zhxsma9</a><br/>Synced 5 W&B file(s), 0 media file(s), 0 artifact file(s) and 0 other file(s)"
            ]
          },
          "metadata": {}
        },
        {
          "output_type": "display_data",
          "data": {
            "text/plain": [
              "<IPython.core.display.HTML object>"
            ],
            "text/html": [
              "Find logs at: <code>./wandb/run-20240306_105124-2zhxsma9/logs</code>"
            ]
          },
          "metadata": {}
        },
        {
          "output_type": "display_data",
          "data": {
            "text/plain": [
              "<Figure size 1000x600 with 0 Axes>"
            ]
          },
          "metadata": {}
        },
        {
          "output_type": "display_data",
          "data": {
            "text/plain": [
              "<Figure size 1000x600 with 1 Axes>"
            ],
            "image/png": "[encoded data removed]"
          },
          "metadata": {}
        },
        {
          "output_type": "display_data",
          "data": {
            "text/plain": [
              "<Figure size 1000x600 with 1 Axes>"
            ],
            "image/png": "[encoded data removed]"
          },
          "metadata": {}
        }
      ]
    },
    {
      "cell_type": "code",
      "source": [
        "!nvidia-smi"
      ],
      "metadata": {
        "id": "82JWaUjAUqlf",
        "colab": {
          "base_uri": "https://localhost:8080/"
        },
        "outputId": "040e4db4-6187-4ed1-a3f9-f987f4d29755"
      },
      "execution_count": 1,
      "outputs": [
        {
          "output_type": "stream",
          "name": "stdout",
          "text": [
            "Wed Mar 13 12:25:38 2024       \n",
            "+---------------------------------------------------------------------------------------+\n",
            "| NVIDIA-SMI 535.104.05             Driver Version: 535.104.05   CUDA Version: 12.2     |\n",
            "|-----------------------------------------+----------------------+----------------------+\n",
            "| GPU  Name                 Persistence-M | Bus-Id        Disp.A | Volatile Uncorr. ECC |\n",
            "| Fan  Temp   Perf          Pwr:Usage/Cap |         Memory-Usage | GPU-Util  Compute M. |\n",
            "|                                         |                      |               MIG M. |\n",
            "|=========================================+======================+======================|\n",
            "|   0  Tesla V100-SXM2-16GB           Off | 00000000:00:04.0 Off |                    0 |\n",
            "| N/A   34C    P0              25W / 300W |      0MiB / 16384MiB |      0%      Default |\n",
            "|                                         |                      |                  N/A |\n",
            "+-----------------------------------------+----------------------+----------------------+\n",
            "                                                                                         \n",
            "+---------------------------------------------------------------------------------------+\n",
            "| Processes:                                                                            |\n",
            "|  GPU   GI   CI        PID   Type   Process name                            GPU Memory |\n",
            "|        ID   ID                                                             Usage      |\n",
            "|=======================================================================================|\n",
            "|  No running processes found                                                           |\n",
            "+---------------------------------------------------------------------------------------+\n"
          ]
        }
      ]
    },
    {
      "cell_type": "code",
      "source": [],
      "metadata": {
        "id": "0u99fSNevdsR"
      },
      "execution_count": null,
      "outputs": []
    }
  ]
}